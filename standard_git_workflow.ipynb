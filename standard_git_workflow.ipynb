{
 "cells": [
  {
   "cell_type": "markdown",
   "id": "24930b8b",
   "metadata": {},
   "source": [
    "### **Standard Git Workflow**\n",
    "\n",
    "```\n",
    "- When you already have a repo cloned locally, you don’t need to clone again for every update. You just keep working inside the same repo folder.\n",
    "\n",
    "# 1. Add new files or updates\n",
    "git add .\n",
    "\n",
    "# 2. Commit changes with a message\n",
    "git commit -m \"Meaningful message\"\n",
    "    \n",
    "# 3. Push changes to GitHub\n",
    "git push origin main\n",
    "\n",
    "- Replace main with your branch name if you’re working on a different one.\n",
    "\n",
    "# 4. Updating Existing Code\n",
    "- Save your changes.\n",
    "- Run:\n",
    "\n",
    "git add .\n",
    "git commit -m \"Meaningful message\"\n",
    "git push origin main\n",
    "\n",
    "- No need to delete or clone again.\n",
    "\n",
    "\n",
    "# 5. Keeping Local Repo in Sync\n",
    "- If you make changes directly on GitHub (e.g., editing README.md online) or if someone else pushes code:\n",
    "    \n",
    "git pull origin main\n",
    "\n",
    "- This updates your local repo with the latest changes before you continue working.\n",
    "```"
   ]
  },
  {
   "cell_type": "markdown",
   "id": "ef7cbd0c",
   "metadata": {},
   "source": [
    "**🚫 When to Clone Again?**\n",
    "\n",
    "- You only clone once when you start on a new machine or if you completely lose your local repo. Otherwise, you keep using the same repo and sync with pull/push.\n",
    "\n",
    "**📝 Golden Rules to Avoid Issues**\n",
    "- Never initialize a new git repo (git init) inside your project once it’s already a repo.\n",
    "- Avoid having multiple .git folders inside subfolders (that was the earlier issue).\n",
    "- Always git pull before starting new work if you’ve made changes on GitHub or another machine."
   ]
  },
  {
   "cell_type": "markdown",
   "id": "aac7c6e1",
   "metadata": {},
   "source": [
    "**✅ Simple Git Checklist (for pushing updates)**\n",
    "```\n",
    "# 1. Check your current branch(optional)\n",
    "git branch\n",
    "\n",
    "# 2. Pull the latest changes from GitHub (to avoid conflicts)\n",
    "git pull origin main\n",
    "\n",
    "# 3. Add all changes (you can also specify file paths instead of \".\")\n",
    "git add .\n",
    "\n",
    "# 4. Commit with a message\n",
    "git commit -m \"Your message about what you changed\"\n",
    "\n",
    "# 5. Push to GitHub\n",
    "git push origin main\n",
    "```\n",
    "\n",
    "**📍 Where to run the commands from?**\n",
    "\n",
    "- Best practice: Always run Git commands from the root of your repo.\n",
    "- Why?\n",
    "    - git add . will include changes from the whole repo.\n",
    "    - It avoids mistakes like leaving out files from other subdirectories."
   ]
  }
 ],
 "metadata": {
  "language_info": {
   "name": "python"
  }
 },
 "nbformat": 4,
 "nbformat_minor": 5
}
